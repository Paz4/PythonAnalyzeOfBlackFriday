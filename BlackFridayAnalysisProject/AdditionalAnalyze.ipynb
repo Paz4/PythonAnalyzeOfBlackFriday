{
 "cells": [
  {
   "cell_type": "code",
   "execution_count": 1,
   "metadata": {},
   "outputs": [],
   "source": [
    "from Libraries import *\n",
    "from Functions import *"
   ]
  },
  {
   "cell_type": "code",
   "execution_count": 7,
   "metadata": {},
   "outputs": [
    {
     "ename": "ModuleNotFoundError",
     "evalue": "No module named 'orange'",
     "output_type": "error",
     "traceback": [
      "\u001b[1;31m---------------------------------------------------------------------------\u001b[0m",
      "\u001b[1;31mModuleNotFoundError\u001b[0m                       Traceback (most recent call last)",
      "\u001b[1;32m<ipython-input-7-7427fb1bd868>\u001b[0m in \u001b[0;36m<module>\u001b[1;34m()\u001b[0m\n\u001b[1;32m----> 1\u001b[1;33m \u001b[1;32mimport\u001b[0m \u001b[0morange\u001b[0m\u001b[1;33m\u001b[0m\u001b[0m\n\u001b[0m",
      "\u001b[1;31mModuleNotFoundError\u001b[0m: No module named 'orange'"
     ]
    }
   ],
   "source": [
    "import orange"
   ]
  },
  {
   "cell_type": "code",
   "execution_count": 13,
   "metadata": {},
   "outputs": [
    {
     "name": "stdout",
     "output_type": "stream",
     "text": [
      "Product_Category_2 [nan  6. 14.  2.  8. 15. 16. 11.  5.  3.  4. 12.  9. 10. 17. 13.  7. 18.]\n",
      "Product_Category_3 [nan 14. 17.  5.  4. 16. 15.  8.  9. 13.  6. 12.  3. 18. 11. 10.]\n"
     ]
    }
   ],
   "source": [
    "print('Product_Category_2', df['Product_Category_2'].unique())\n",
    "print('Product_Category_3', df['Product_Category_3'].unique())\n"
   ]
  },
  {
   "cell_type": "code",
   "execution_count": 2,
   "metadata": {},
   "outputs": [
    {
     "name": "stdout",
     "output_type": "stream",
     "text": [
      "Product_Category_2 [ 0  6 14  2  8 15 16 11  5  3  4 12  9 10 17 13  7 18]\n",
      "Product_Category_3 [ 0 14 17  5  4 16 15  8  9 13  6 12  3 18 11 10]\n"
     ]
    }
   ],
   "source": [
    "## So all values are in integer range. May be we can assign value zero for the NaN cases\n",
    "df.fillna(value=0,inplace=True)\n",
    "## Also looks like the product categories are float while they can be int.\n",
    "df[\"Product_Category_2\"] = df[\"Product_Category_2\"].astype(int)\n",
    "df[\"Product_Category_3\"] = df[\"Product_Category_3\"].astype(int)\n",
    "print('Product_Category_2', df['Product_Category_2'].unique())\n",
    "print('Product_Category_3', df['Product_Category_3'].unique())"
   ]
  },
  {
   "cell_type": "code",
   "execution_count": 5,
   "metadata": {},
   "outputs": [
    {
     "name": "stdout",
     "output_type": "stream",
     "text": [
      "Product_Category_1\n",
      "1     13074.182210\n",
      "2     12067.393407\n",
      "3     11773.472103\n",
      "4      2058.218310\n",
      "5      6101.905699\n",
      "6     14522.247191\n",
      "7     16515.927618\n",
      "8      7512.154727\n",
      "9     18456.000000\n",
      "10    20332.637584\n",
      "11     4675.305278\n",
      "12     1333.786613\n",
      "13      716.288026\n",
      "14    12724.977880\n",
      "15    15323.278513\n",
      "16    14764.157471\n",
      "17    10156.440917\n",
      "18     2975.307642\n",
      "Name: Purchase, dtype: float64\n"
     ]
    },
    {
     "data": {
      "text/plain": [
       "<matplotlib.axes._subplots.AxesSubplot at 0x1c9dad736a0>"
      ]
     },
     "execution_count": 5,
     "metadata": {},
     "output_type": "execute_result"
    },
    {
     "data": {
      "image/png": "[encoded data removed]",
      "text/plain": [
       "<Figure size 432x288 with 1 Axes>"
      ]
     },
     "metadata": {},
     "output_type": "display_data"
    }
   ],
   "source": [
    "MeanCatPrice=df[df.Product_Category_2==0].groupby(['Product_Category_1'])['Purchase'].mean()\n",
    "print(MeanCatPrice)\n",
    "MeanCatPrice.plot(kind='bar')"
   ]
  },
  {
   "cell_type": "code",
   "execution_count": 3,
   "metadata": {},
   "outputs": [
    {
     "name": "stdout",
     "output_type": "stream",
     "text": [
      "Product_Category_1\n",
      "1      6498\n",
      "2       910\n",
      "3       233\n",
      "4       142\n",
      "5     62788\n",
      "6       979\n",
      "7      3371\n",
      "8     59828\n",
      "9         1\n",
      "10      447\n",
      "11    12202\n",
      "12     1748\n",
      "13      618\n",
      "14     1085\n",
      "15     2797\n",
      "16     9697\n",
      "17      567\n",
      "18     3075\n",
      "Name: Purchase, dtype: int64\n"
     ]
    },
    {
     "data": {
      "text/plain": [
       "<matplotlib.axes._subplots.AxesSubplot at 0x2259d6b3278>"
      ]
     },
     "execution_count": 3,
     "metadata": {},
     "output_type": "execute_result"
    },
    {
     "data": {
      "image/png": "[encoded data removed]",
      "text/plain": [
       "<Figure size 432x288 with 1 Axes>"
      ]
     },
     "metadata": {},
     "output_type": "display_data"
    }
   ],
   "source": [
    "MeanCatPrice=df[df.Product_Category_2==0].groupby(['Product_Category_1'])['Purchase'].count()\n",
    "print(MeanCatPrice)\n",
    "MeanCatPrice.plot(kind='bar')"
   ]
  },
  {
   "cell_type": "code",
   "execution_count": 10,
   "metadata": {},
   "outputs": [
    {
     "name": "stdout",
     "output_type": "stream",
     "text": [
      "Product_Category_1\n",
      "1      84956036\n",
      "2      10981328\n",
      "3       2743219\n",
      "4        292267\n",
      "5     383126455\n",
      "6      14217280\n",
      "7      55675192\n",
      "8     449437193\n",
      "9         18456\n",
      "10      9088689\n",
      "11     57048075\n",
      "12      2331459\n",
      "13       442666\n",
      "14     13806601\n",
      "15     42859210\n",
      "16    143168035\n",
      "17      5758702\n",
      "18      9149071\n",
      "Name: Purchase, dtype: int64\n"
     ]
    },
    {
     "data": {
      "text/plain": [
       "<matplotlib.axes._subplots.AxesSubplot at 0x1c9db7cf198>"
      ]
     },
     "execution_count": 10,
     "metadata": {},
     "output_type": "execute_result"
    },
    {
     "data": {
      "image/png": "[encoded data removed]",
      "text/plain": [
       "<Figure size 432x288 with 1 Axes>"
      ]
     },
     "metadata": {},
     "output_type": "display_data"
    }
   ],
   "source": [
    "SumCatPrice=df[df.Product_Category_2==0].groupby(['Product_Category_1'])['Purchase'].sum()\n",
    "print(SumCatPrice)\n",
    "SumCatPrice.plot(kind='bar')"
   ]
  },
  {
   "cell_type": "code",
   "execution_count": 4,
   "metadata": {},
   "outputs": [
    {
     "name": "stdout",
     "output_type": "stream",
     "text": [
      "Product_Category_2\n",
      "2     48481\n",
      "3      2835\n",
      "4     25225\n",
      "5     25874\n",
      "6     16251\n",
      "7       615\n",
      "8     63058\n",
      "9      5591\n",
      "10     2991\n",
      "11    13945\n",
      "12     5419\n",
      "13    10369\n",
      "14    54158\n",
      "15    37317\n",
      "16    42602\n",
      "17    13130\n",
      "18     2730\n",
      "Name: Purchase, dtype: int64\n"
     ]
    },
    {
     "data": {
      "text/plain": [
       "<matplotlib.axes._subplots.AxesSubplot at 0x2259de6e240>"
      ]
     },
     "execution_count": 4,
     "metadata": {},
     "output_type": "execute_result"
    },
    {
     "data": {
      "image/png": "[encoded data removed]",
      "text/plain": [
       "<Figure size 432x288 with 1 Axes>"
      ]
     },
     "metadata": {},
     "output_type": "display_data"
    }
   ],
   "source": [
    "SumCatPrice=df[df.Product_Category_2 !=0].groupby(['Product_Category_2'])['Purchase'].count()\n",
    "print(SumCatPrice)\n",
    "SumCatPrice.plot(kind='bar')"
   ]
  }
 ],
 "metadata": {
  "kernelspec": {
   "display_name": "Python 3",
   "language": "python",
   "name": "python3"
  },
  "language_info": {
   "codemirror_mode": {
    "name": "ipython",
    "version": 3
   },
   "file_extension": ".py",
   "mimetype": "text/x-python",
   "name": "python",
   "nbconvert_exporter": "python",
   "pygments_lexer": "ipython3",
   "version": "3.6.5"
  }
 },
 "nbformat": 4,
 "nbformat_minor": 2
}
