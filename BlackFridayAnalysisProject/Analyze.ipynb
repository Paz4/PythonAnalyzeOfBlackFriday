{
 "cells": [
  {
   "cell_type": "code",
   "execution_count": 4,
   "metadata": {},
   "outputs": [
    {
     "name": "stdout",
     "output_type": "stream",
     "text": [
      "['.ipynb_checkpoints', 'Analyze.ipynb', 'Analyze.py', 'BlackFriday.csv', 'Functions.py', 'Libraries.py', '__init__.py', '__pycache__']\n"
     ]
    }
   ],
   "source": [
    "import os\n",
    "print(os.listdir(\"../BlackFridayAnalysisProject\"))\n",
    "from Libraries import *\n",
    "from Functions import *"
   ]
  },
  {
   "cell_type": "code",
   "execution_count": null,
   "metadata": {},
   "outputs": [],
   "source": [
    "df.info()"
   ]
  },
  {
   "cell_type": "code",
   "execution_count": null,
   "metadata": {},
   "outputs": [],
   "source": [
    "df.head(20)"
   ]
  },
  {
   "cell_type": "code",
   "execution_count": null,
   "metadata": {
    "scrolled": true
   },
   "outputs": [],
   "source": [
    "## to check which columns have null values.\n",
    "df.isna().any()"
   ]
  },
  {
   "cell_type": "code",
   "execution_count": null,
   "metadata": {},
   "outputs": [],
   "source": [
    "sns.countplot(df['Gender'])"
   ]
  },
  {
   "cell_type": "code",
   "execution_count": null,
   "metadata": {},
   "outputs": [],
   "source": [
    "print(\"Всего совершенно покупок: \", df['User_ID'].count())\n",
    "print(df.groupby(['Gender'])['User_ID'].count())"
   ]
  },
  {
   "cell_type": "code",
   "execution_count": null,
   "metadata": {},
   "outputs": [],
   "source": [
    "quantity_of_customer = df['User_ID'].drop_duplicates()\n",
    "print(\"Всего покупателей: \", quantity_of_customer.count())"
   ]
  },
  {
   "cell_type": "code",
   "execution_count": null,
   "metadata": {},
   "outputs": [],
   "source": [
    "#Количество покупателей, мужчин и женщин\n",
    "print(quantity_of_customer[df.Gender=='F'].count()) \n",
    "print(quantity_of_customer[df.Gender=='M'].count())"
   ]
  },
  {
   "cell_type": "code",
   "execution_count": null,
   "metadata": {},
   "outputs": [],
   "source": [
    "#Среднее число покупок для мужчины и женщины \n",
    "print(df.groupby(['Gender'])['Product_ID'].count())\n",
    "AverQuintityF = 132197/1666\n",
    "AverQuintityM = 405380/4225\n",
    "print(\"Среднее количество покупок для женщины:\", AverQuintityF)\n",
    "print(\"Среднее количество покупок для мужчины:\", AverQuintityM)"
   ]
  },
  {
   "cell_type": "code",
   "execution_count": null,
   "metadata": {},
   "outputs": [],
   "source": [
    "#Средняя сумма покупки для мужчины и для женщины\n",
    "print(df.groupby(['Gender'])['Purchase'].mean())"
   ]
  },
  {
   "cell_type": "code",
   "execution_count": 5,
   "metadata": {},
   "outputs": [
    {
     "name": "stdout",
     "output_type": "stream",
     "text": [
      "5017668378\n",
      "Gender\n",
      "F    1164624021\n",
      "M    3853044357\n",
      "Name: Purchase, dtype: int64\n"
     ]
    },
    {
     "data": {
      "image/png": "[encoded data removed]",
      "text/plain": [
       "<Figure size 432x288 with 1 Axes>"
      ]
     },
     "metadata": {},
     "output_type": "display_data"
    }
   ],
   "source": [
    "#Сумма покупок для женщины и мужчин\n",
    "print(df['Purchase'].sum())\n",
    "SumPur = df.groupby(['Gender'])['Purchase'].sum()\n",
    "draw_pie_diagram(SumPur)"
   ]
  },
  {
   "cell_type": "code",
   "execution_count": null,
   "metadata": {},
   "outputs": [],
   "source": [
    "#Женатые и нежинатые число покупателей\n",
    "print(quantity_of_customer[df.Marital_Status==0].count())\n",
    "print(quantity_of_customer[df.Marital_Status==1].count())"
   ]
  },
  {
   "cell_type": "code",
   "execution_count": 3,
   "metadata": {},
   "outputs": [
    {
     "name": "stdout",
     "output_type": "stream",
     "text": [
      "Marital_Status  Gender\n",
      "0               F          76974\n",
      "                M         240843\n",
      "1               F          55223\n",
      "                M         164537\n",
      "Name: Purchase, dtype: int64\n"
     ]
    },
    {
     "data": {
      "image/png": "[encoded data removed]",
      "text/plain": [
       "<Figure size 432x288 with 1 Axes>"
      ]
     },
     "metadata": {},
     "output_type": "display_data"
    }
   ],
   "source": [
    "#Число покупок женатых и неженатых\n",
    "poc1=df.groupby(['Marital_Status', 'Gender'])['Purchase'].count()\n",
    "draw_pie_diagram(poc1)"
   ]
  },
  {
   "cell_type": "code",
   "execution_count": 6,
   "metadata": {},
   "outputs": [
    {
     "name": "stdout",
     "output_type": "stream",
     "text": [
      "Marital_Status  Gender\n",
      "0               F          673815717\n",
      "                M         2292473783\n",
      "1               F          490808304\n",
      "                M         1560570574\n",
      "Name: Purchase, dtype: int64\n"
     ]
    },
    {
     "data": {
      "image/png": "[encoded data removed]",
      "text/plain": [
       "<Figure size 432x288 with 1 Axes>"
      ]
     },
     "metadata": {},
     "output_type": "display_data"
    }
   ],
   "source": [
    "#Число покупок женатых и неженатых\n",
    "poc=df.groupby(['Marital_Status', 'Gender'])['Purchase'].sum()\n",
    "draw_pie_diagram(poc)"
   ]
  },
  {
   "cell_type": "code",
   "execution_count": null,
   "metadata": {},
   "outputs": [],
   "source": [
    "#Число покупок женатых и неженатых\n",
    "df.groupby(['Marital_Status', 'Gender'])['Purchase'].mean()"
   ]
  },
  {
   "cell_type": "code",
   "execution_count": null,
   "metadata": {},
   "outputs": [],
   "source": [
    "poc2=df.groupby(['Age'])['Purchase'].sum()\n",
    "draw_pie_diagram(poc2)"
   ]
  },
  {
   "cell_type": "code",
   "execution_count": null,
   "metadata": {},
   "outputs": [],
   "source": [
    "df.groupby(['Age'])['Purchase'].mean()"
   ]
  },
  {
   "cell_type": "code",
   "execution_count": null,
   "metadata": {},
   "outputs": [],
   "source": [
    "vid = df.groupby(['Product_Category_1'])['User_ID'].count()\n",
    "print(vid)\n",
    "sns.countplot(df['Product_Category_1'])"
   ]
  },
  {
   "cell_type": "code",
   "execution_count": null,
   "metadata": {},
   "outputs": [],
   "source": [
    "g=df.groupby(['Product_Category_1', 'Age'])['User_ID'].count()\n",
    "print(g)\n",
    "sns.countplot(df['Product_Category_1'], hue = df['Age'])"
   ]
  },
  {
   "cell_type": "code",
   "execution_count": null,
   "metadata": {},
   "outputs": [],
   "source": [
    "sns.countplot(df['Age'], hue = df['Product_Category_1'])"
   ]
  },
  {
   "cell_type": "code",
   "execution_count": null,
   "metadata": {},
   "outputs": [],
   "source": [
    "TratCity=df.groupby(['City_Category'])['Purchase'].sum()\n",
    "print(TratCity)\n",
    "TratCity.plot(kind='pie')\n",
    "plt.axis('equal')\n",
    "plt.show()"
   ]
  },
  {
   "cell_type": "code",
   "execution_count": null,
   "metadata": {},
   "outputs": [],
   "source": [
    "TratOcu=df.groupby(['Occupation'])['Purchase'].count()\n",
    "print(TratOcu)\n",
    "TratOcu.plot(kind='pie')\n",
    "plt.axis('equal')\n",
    "plt.show()"
   ]
  },
  {
   "cell_type": "code",
   "execution_count": null,
   "metadata": {},
   "outputs": [],
   "source": [
    "catpr=df.groupby(['Product_Category_1', 'Gender'])['User_ID'].sum()\n",
    "print(catpr)\n",
    "sns.countplot(df['Product_Category_1'], hue = df['Gender'])"
   ]
  },
  {
   "cell_type": "code",
   "execution_count": null,
   "metadata": {},
   "outputs": [],
   "source": [
    "catci=df.groupby(['Product_Category_1', 'Stay_In_Current_City_Years'])['User_ID'].sum()\n",
    "print(catci)\n",
    "sns.countplot(df['Product_Category_1'], hue = df['Stay_In_Current_City_Years'])"
   ]
  },
  {
   "cell_type": "code",
   "execution_count": null,
   "metadata": {},
   "outputs": [],
   "source": [
    "catco=df.groupby(['Stay_In_Current_City_Years'])['User_ID'].sum()\n",
    "print(catco)\n",
    "sns.countplot(df['Stay_In_Current_City_Years'])"
   ]
  },
  {
   "cell_type": "code",
   "execution_count": null,
   "metadata": {},
   "outputs": [],
   "source": [
    "import numpy\n",
    "numpy.corrcoef(df['Purchase'], df['Gender'])"
   ]
  },
  {
   "cell_type": "code",
   "execution_count": null,
   "metadata": {},
   "outputs": [],
   "source": [
    "df.corr().iloc[:,-1]"
   ]
  },
  {
   "cell_type": "code",
   "execution_count": null,
   "metadata": {},
   "outputs": [],
   "source": [
    "# correlation in consol scrren\n",
    "#data.corr()\n",
    "\n",
    "# correlation visualization square\n",
    "#f,ax = plt.subplots(figsize=(10,5))\n",
    "#sns.heatmap(data.corr(), annot=True, linewidths=.5, fmt= '.1f',ax=ax)\n",
    "#plt.show()\n",
    "\n",
    "# correlation visualization triangle\n",
    "corr = df.corr()\n",
    "# Plot figsize\n",
    "fig, ax = plt.subplots(figsize=(10, 10))\n",
    "dropSelf = np.zeros_like(corr)\n",
    "dropSelf[np.triu_indices_from(dropSelf)] = True\n",
    "# Generate Color Map\n",
    "colormap = sns.light_palette((210, 90, 60), input=\"husl\")\n",
    "# Generate Heat Map, allow annotations and place floats in map\n",
    "sns.heatmap(corr, cmap=colormap, annot=True, fmt=\".2f\", mask=dropSelf)\n",
    "# Apply xticks\n",
    "plt.xticks(range(len(corr.columns)), corr.columns);\n",
    "# Apply yticks\n",
    "plt.yticks(range(len(corr.columns)), corr.columns)\n",
    "plt.show()"
   ]
  },
  {
   "cell_type": "code",
   "execution_count": null,
   "metadata": {},
   "outputs": [],
   "source": [
    "plt.figure(figsize=(20,10))\n",
    "plt.hist(df['Purchase'],bins=100, alpha=1)\n",
    "plt.xlabel('Purchase',fontsize=40)\n",
    "plt.ylabel('Count',fontsize=40)"
   ]
  }
 ],
 "metadata": {
  "kernelspec": {
   "display_name": "Python 3",
   "language": "python",
   "name": "python3"
  },
  "language_info": {
   "codemirror_mode": {
    "name": "ipython",
    "version": 3
   },
   "file_extension": ".py",
   "mimetype": "text/x-python",
   "name": "python",
   "nbconvert_exporter": "python",
   "pygments_lexer": "ipython3",
   "version": "3.6.5"
  }
 },
 "nbformat": 4,
 "nbformat_minor": 2
}
